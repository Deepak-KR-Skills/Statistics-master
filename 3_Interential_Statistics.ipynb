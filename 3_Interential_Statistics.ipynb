{
 "cells": [
  {
   "cell_type": "markdown",
   "metadata": {},
   "source": [
    "## **1. Statistical Inference**  \n",
    "Using data analysis and statistics to make conclusions about a population is called statistical inference.\n",
    "\n",
    "The main types of statistical inference are:  \n",
    "1. Estimation\n",
    "2. Hypothesis testing"
   ]
  },
  {
   "cell_type": "markdown",
   "metadata": {},
   "source": [
    "## **1.1 Estimation**  \n",
    "Statistics from a sample are used to estimate population parameters.\n",
    "\n",
    "The most likely value is called a **point estimate**.\n",
    "\n",
    "There is **always** uncertainty when estimating.\n",
    "\n",
    "The uncertainty is often expressed as **confidence intervals** defined by a likely lowest and highest value for the parameter.\n",
    "\n",
    "An example could be a confidence interval for the number of bicycles a Dutch person owns:  \n",
    "> \"The average number of bikes a Dutch person owns is between 3.5 and 6.\""
   ]
  },
  {
   "cell_type": "markdown",
   "metadata": {},
   "source": [
    "## **1.2 Hypothesis Testing**  \n",
    "**Hypothesis testing** is a method to check if a claim about a population is true. More precisely, it checks how likely it is that a hypothesis is true is based on the sample data.\n",
    "\n",
    "There are different types of hypothesis testing.\n",
    "\n",
    "The steps of the test depends on:\n",
    "- Type of data (categorical or numerical)\n",
    "- If you are looking a at:\n",
    "    - A single group\n",
    "    - Comparing one group to another\n",
    "    - Comparing the same group before and after a change  \n",
    "\n",
    "Some examples of claims or questions that can be checked with hypothesis testing:  \n",
    "> - 90% of Australians are left handed\n",
    "> - Is the average weight of dogs more than 40kg?\n",
    "> - Do doctors make more money than lawyers?"
   ]
  },
  {
   "cell_type": "markdown",
   "metadata": {},
   "source": [
    "## **1.3 Probability Distributions**  \n",
    "Statistical inference methods rely on probability calculation and probability distributions.\n",
    "\n",
    "You will learn about the most important probability distributions in the next pages.\n",
    "1. Normal Distribution\n",
    "2. Standard Normal Distribution"
   ]
  },
  {
   "cell_type": "markdown",
   "metadata": {},
   "source": [
    "## **2. Normal Distribution**  \n",
    "The normal distribution is an important probability distribution used in stastistics.\n",
    "\n",
    "Many real world examples of data are normally distributed.  \n",
    "\n",
    "The normal distribution is described by the mean ($\\mu$) and the standard deviation ($\\sigma$).\n",
    "\n",
    "The normal distribution is often referred to as a 'bell curve' because of it's shape:\n",
    "\n",
    "Most of the values are around the centre ($\\mu$)\n",
    "The <u>median</u> and mean are equal\n",
    "It has only one <u>mode</u>\n",
    "It is symmetric, meaning it decreases the same amount on the left and the right of the centre\n",
    "The area under the curve of the normal distribution represents probabilities for the data.\n",
    "\n",
    "The area under the whole curve is equal to 1, or 100%\n",
    "\n",
    "Here is a graph of a normal distribution with probabilities between standard deviations ($\\sigma$):\n",
    "<img src='Normal_Distribution_1.png' alt='Normal Distributions with indicated probabilities.'>  \n",
    "\n",
    "- Roughly 68.3% of the data is within 1 standard deviation of the average (from μ-1σ to μ+1σ)\n",
    "- Roughly 95.5% of the data is within 2 standard deviations of the average (from μ-2σ to μ+2σ)\n",
    "- Roughly 99.7% of the data is within 3 standard deviations of the average (from μ-3σ to μ+3σ)  \n",
    "\n",
    "> **Note:** Probabilities of the normal distribution can only be calculated for intervals (between two values)."
   ]
  },
  {
   "cell_type": "markdown",
   "metadata": {},
   "source": [
    "## **2.1 Different Mean and Standard Deviations**  \n",
    "The mean describes where the centre of the normal distribution is.\n",
    "\n",
    "Here is a graph showing three different normal distributions with the **same** standard deviation but different means.\n",
    "<img src='Normal_Distribution_2.png' alt='Normal Distributions with different means.'>  \n",
    "\n",
    "The standard deviation describes how spread out the normal distribution is.\n",
    "\n",
    "Here is a graph showing three different normal distributions with the **same** mean but different standard deviations.\n",
    "<img src='Normal_Distribution_3.png' alt='Normal Distributions with different standard deviations.'>  \n",
    "\n",
    "The purple cuve has the biggest standard deviation and the black curve has the smallest standard deviation.\n",
    "\n",
    "The area under each of the curves is still 1, or 100%."
   ]
  },
  {
   "cell_type": "markdown",
   "metadata": {},
   "source": [
    "## **2.2 A Real Data Example of Normally Distributed Data**  \n",
    "Real world data is often normally distributed.\n",
    "\n",
    "Here is a histogram of the age of Nobel Prize winners when they won the prize:\n",
    "\n",
    "<img src='Normal_Distribution_4.png' alt='Histogram of the age of Nobel Prize winners when they won the prize and normal distribution fitted to the data.'>  \n",
    "\n",
    "The normal distribution drawn on top of the histogram is based on the population mean ($\\mu$) and standard deviation ($\\sigma$) of the real data.\n",
    "\n",
    "We can see that the histogram close to a normal distribution.\n",
    "\n",
    "Examples of real world variables that can be normally distributed:\n",
    "- Test scores\n",
    "- Height\n",
    "- Birth weight"
   ]
  },
  {
   "cell_type": "markdown",
   "metadata": {},
   "source": [
    "## **2.3 Probability Distributions** \n",
    "Probability distributions are functions that calculates the probabilities of the outcomes of random variables.\n",
    "\n",
    "Typical examples of random variables are coin tosses and dice rolls.\n",
    "\n",
    "Here is an graph showing the results of a growing number of coin tosses and the expected values of the results (heads or tails).\n",
    "\n",
    "The expected values of the coin toss is the probability distribution of the coin toss.\n",
    "<img src='Normal_Distribution_5.gif' alt='Simulated coin tosses and expected values.'> \n",
    "\n",
    "Notice how the result of random coin tosses gets closer to the expected values (50%) as the number of tosses increases.\n",
    "\n",
    "Similarly, here is a graph showing the results of a growing number of dice rolls and the expected values of the results (from 1 to 6).  \n",
    "\n",
    "<img src='Normal_Distribution_6.gif' alt='Simulated dice rolls and expected values.'>\n",
    "\n",
    "Notice again how the result of random dice rolls gets closer to the expected values (1/6, or 16.666%) as the number of rolls increases.\n",
    "\n",
    "When the random variable is a **sum** of dice rolls the results and expected values take a different shape.\n",
    "\n",
    "The different shape comes from there being more ways of getting a sum of near the middle, than a small or large sum.\n",
    "<img src='Normal_Distribution_7.gif' alt='Simulated sum of two dice rolls and expected values.'>\n",
    "\n",
    "As we keep increasing the number of dice for a sum the shape of the results and expected values look more and more like a normal distribution.\n",
    "<img src='Normal_Distribution_8.gif' alt='Simulated sum of 3 dice rolls and expected values.'><img src='Normal_Distribution_9.gif' alt='Simulated sum of 5 dice rolls and expected values.'>\n",
    "\n",
    "Many real world variables follow a similar pattern and naturally form normal distributions.\n",
    "\n",
    "Normally distributed varaiables can be analysed with well-known techniques.\n",
    "\n",
    "You will learn about some of the most common and useful techniques in the following pages."
   ]
  },
  {
   "cell_type": "markdown",
   "metadata": {},
   "source": [
    "## **3. Standard Normal Distribution**\n",
    "The standard normal distribution is a normal distribution where the mean is 0 and the standard deviation is 1.\n",
    "\n",
    "Normally distributed data can be transformed into a standard normal distribution.\n",
    "\n",
    "Standardizing normally distributed data makes it easier to compare different sets of data.\n",
    "\n",
    "The standard normal distribution is used for:  \n",
    "- Calculating confidence intervals\n",
    "- Hypothesis tests  \n",
    "\n",
    "Here is a graph of the standard normal distribution with probability values (p-values) between the standard deviations:\n",
    "<img src='Standard_Normal_Distribution.png' alt='Standard Normal Distribution with indicated probabilities.'>\n",
    "\n",
    "Standardizing makes it easier to calculate probabilities.\n",
    "\n",
    "The functions for calculating probabilities are complex and difficult to calculate by hand.\n",
    "\n",
    "Typically, probabilities are found by looking up tables of pre-calculated values, or by using software and programming.\n",
    "\n",
    "The standard normal distribution is also called the 'Z-distribution' and the values are called 'Z-values' (or Z-scores)."
   ]
  },
  {
   "cell_type": "markdown",
   "metadata": {},
   "source": [
    "## **3.1 Z-Values** \n",
    "Z-values express how many standard deviations from the mean a value is.\n",
    "\n",
    "The formula for calculating a Z-value is:  \n",
    "$\\displaystyle Z = \\frac{x-\\mu}{\\sigma}$  \n",
    " $x$ is the value we are standardizing,  $\\mu$ is the mean, and  is the standard deviation.\n",
    "\n",
    "For example, if we know that:\n",
    "> The mean height of people in Germany is 170 cm ($\\mu$)\n",
    ">\n",
    "> The standard deviation of the height of people in Germany is 10 cm ($\\sigma$)\n",
    "> \n",
    "> Bob is 200 cm tall ($x$)\n",
    "\n",
    "Bob is 30 cm taller than the average person in Germany.\n",
    "\n",
    "30 cm is 3 times 10 cm. So Bob's height is 3 standard deviations larger than mean height in Germany.\n",
    "\n",
    "Using the formula:  \n",
    "$\\displaystyle Z = \\frac{x-\\mu}{\\sigma} = \\frac{200-170}{10} = \\frac{30}{10} = \\underline{3}$\n",
    "\n",
    "The Z-value of Bob's height (200 cm) is 3."
   ]
  },
  {
   "cell_type": "markdown",
   "metadata": {},
   "source": [
    "## **3.2 Finding the P-value of a Z-Value**  \n",
    "Using a Z-table(refer file '4_References_Statistics.ipynb' for more info.) or programming we can calculate how many people Germany are shorter than Bob and how many are taller.\n",
    "\n",
    "Example  \n",
    "With Python use the Scipy Stats library `norm.cdf()` function find the probability of getting less than a Z-value of 3:\n"
   ]
  },
  {
   "cell_type": "code",
   "execution_count": 1,
   "metadata": {},
   "outputs": [
    {
     "name": "stdout",
     "output_type": "stream",
     "text": [
      "0.9986501019683699\n"
     ]
    }
   ],
   "source": [
    "import scipy.stats as stats\n",
    "print(stats.norm.cdf(3))"
   ]
  },
  {
   "cell_type": "markdown",
   "metadata": {},
   "source": [
    "Using either(Python or R) method we can find that the probability is $\\approx 0.9987$, or $99.87\\%$ \n",
    "\n",
    "Which means that Bob is taller than 99.87% of the people in Germany.\n",
    "\n",
    "Here is a graph of the standard normal distribution and a Z-value of 3 to visualize the probability:\n",
    "<img src='P-value_of_Z-Value.png' alt='Standard Normal Distribution with indicated probability for a z-value of 3.'>\n",
    "\n",
    "These methods find the p-value up to the particular z-value we have.\n",
    "\n",
    "To find the p-value above the z-value we can calculate 1 minus the probability.\n",
    "\n",
    "So in Bob's example, we can calculate 1 - 0.9987 = 0.0013, or 0.13%.\n",
    "\n",
    "Which means that only 0.13% of Germans are taller than Bob."
   ]
  },
  {
   "cell_type": "markdown",
   "metadata": {},
   "source": [
    "## **3.3 Finding the P-Value Between Z-Values**  \n"
   ]
  }
 ],
 "metadata": {
  "interpreter": {
   "hash": "4dc1cc02c367ca7ad0b1fc5e376b41e09845a28f3f36f373698abec275ce0fd0"
  },
  "kernelspec": {
   "display_name": "Python 3.8.8 64-bit ('base': conda)",
   "name": "python3"
  },
  "language_info": {
   "codemirror_mode": {
    "name": "ipython",
    "version": 3
   },
   "file_extension": ".py",
   "mimetype": "text/x-python",
   "name": "python",
   "nbconvert_exporter": "python",
   "pygments_lexer": "ipython3",
   "version": "3.8.8"
  },
  "orig_nbformat": 4
 },
 "nbformat": 4,
 "nbformat_minor": 2
}
