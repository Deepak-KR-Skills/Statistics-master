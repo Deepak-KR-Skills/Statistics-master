{
 "cells": [
  {
   "cell_type": "markdown",
   "metadata": {},
   "source": [
    "# **Descriptive Statistics**  "
   ]
  },
  {
   "cell_type": "markdown",
   "metadata": {},
   "source": [
    "Descriptive statistics gives us insight into data without having to look at all of it in detail."
   ]
  },
  {
   "cell_type": "markdown",
   "metadata": {},
   "source": [
    "## **1. Key Features to Describe about Data**  \n",
    "Getting a quick overview of how the data is distributed is a important step in statistical methods.\n",
    "\n",
    "We calculate key numerical values about the data that tells us about the distribution of the data. We also draw graphs showing visually how the data is distributed.\n",
    "\n",
    "Key Features of Data:\n",
    "\n",
    "1. Where is the centre of the data? (location)\n",
    "2. How much does the data vary? (scale)\n",
    "3. What is the shape of the data? (shape)  \n",
    "\n",
    "These can be described by **summary statistics** (numerical values)."
   ]
  },
  {
   "cell_type": "markdown",
   "metadata": {},
   "source": [
    "## **1.1 The Centre of the Data**  \n",
    "The **centre** of the data is where most of the values are concentrated.\n",
    "\n",
    "Different kinds of averages, like mean, median and mode, are **measures** of the centre.  \n",
    "\n",
    "> **Note:** Measures of the centre are also called location parameters, because they tell us something about where data is 'located' on a number line."
   ]
  },
  {
   "cell_type": "markdown",
   "metadata": {},
   "source": [
    "## **1.2 The Variation of the Data**  \n",
    "\n",
    "The **variation** of the data is how spread out the data are around the centre.\n",
    "\n",
    "Statistics like standard devition, range and quartiles are **measures** of variation.\n",
    "\n",
    "> **Note:** Measures of variation are also called **scale parameters**."
   ]
  },
  {
   "cell_type": "markdown",
   "metadata": {},
   "source": [
    "## **1.3 The Shape of the Data**  \n",
    "The shape of the data can refer to the how the data are bunched up on either side of the centre.\n",
    "\n",
    "Statistics like **skew** describe if the right of left side of the centre is bigger. Skew is one type of **shape parameters.**"
   ]
  },
  {
   "cell_type": "markdown",
   "metadata": {},
   "source": [
    "## **2. Visualizing Data**  \n",
    "Different types of graphs are used for different kinds of data. For example:\n",
    "\n",
    "- Pie charts for qualitative data\n",
    "- Histograms for quantitative data\n",
    "- Scatter plots for bivariate data  \n",
    "\n",
    "Graphs often have a close connection to numerical summary statistics.\n",
    "\n",
    "For example, box plots show where the **quartiles** are.\n",
    "\n",
    "Quartiles also tell us where the minimum and maximum values, range, interquartile range, and median are."
   ]
  },
  {
   "cell_type": "markdown",
   "metadata": {},
   "source": [
    "## **3. Frequency Tables**  \n",
    "A frequency tables is a way to present data. The data are counted and ordered to summarize larger sets of data.\n",
    "\n",
    "With a frequency table you can analyze the way the data is distributed across different values.  \n",
    "\n",
    "One typical of presenting data is with **frequency tables.**\n",
    "\n",
    "A **frequency table** counts and orders data into a table. Typically, the data will need to be sorted into intervals.\n",
    "\n",
    "Frequency tables are often the basis for making graphs to visually present the data.  \n",
    "\n",
    "1. Frequency Tables\n",
    "2. Relative Frequency Tables  \n",
    "3. Cumulative Frequency Tables"
   ]
  },
  {
   "cell_type": "markdown",
   "metadata": {},
   "source": [
    "## **3.1 Frequency Tables**  \n",
    "Frenquency means the number of times a value appears in the data. A table can quickly show us how many times each value appears.\n",
    "\n",
    "If the data has many different values, it is easier to use intervals of values to present them in a table.\n",
    "\n",
    "Here is the age of the 934 Nobel Prize winners up until the year 2020. In the table each row is an age interval of 10 years.  \n",
    "\n",
    "|Age Interval|Frequency|  \n",
    "|---|---|\n",
    "10-19|1\n",
    "20-29|\t2\n",
    "30-39|\t48\n",
    "40-49|\t158\n",
    "50-59|\t236\n",
    "60-69|\t262\n",
    "70-79|\t174\n",
    "80-89|\t50\n",
    "90-99|\t3  \n",
    "\n",
    "We can see that there is only one winner from ages 10 to 19. And that the highest number of winners are in their 60s.  \n",
    "\n",
    "> **Note:** The intervals for the values are also called 'bins'."
   ]
  },
  {
   "cell_type": "markdown",
   "metadata": {},
   "source": [
    "## **3.2 Relative Frequency Tables**  \n",
    "Relative frenquency means the number of times a value appears in the data compared to the total amount. A percentage is a relative frequency.\n",
    "\n",
    "Here are the relative frequencies of ages of Noble Prize winners. Now, all the frequencies are divided by the total (928) to give percentages.  \n",
    "\n",
    "|Age Interval|Relative Frequency|\n",
    "|---|---|\n",
    "10-19|\t0.11%\n",
    "20-29|\t0.21%\n",
    "30-39|\t5.14%\n",
    "40-49|\t16.92%\n",
    "50-59|\t25.27%\n",
    "60-69|\t28.05%\n",
    "70-79|\t18.63%\n",
    "80-89|\t5.35%\n",
    "90-99|\t0.32%"
   ]
  },
  {
   "cell_type": "markdown",
   "metadata": {},
   "source": [
    "## **3.3 Cumulative Frequency Tables**  \n",
    "Cumulative frequency counts up to a particular value.\n",
    "\n",
    "Here are the cumulative frequencies of ages of Nobel Prize winners. Now, we can see how many winners have been younger than a certain age.  \n",
    "\n",
    "|Age|Cumulative Frequency|\n",
    "|---|---|\n",
    "Younger than 20|1\n",
    "Younger than 30|3\n",
    "Younger than 40|51\n",
    "Younger than 50|208\n",
    "Younger than 60|\t442\n",
    "Younger than 70|\t701\n",
    "Younger than 80|\t875\n",
    "Younger than 90|\t925\n",
    "Younger than 100|\t928  \n",
    "\n",
    "Cumulative frequency tables can also be made with relative frequencies (percentages)."
   ]
  },
  {
   "cell_type": "markdown",
   "metadata": {},
   "source": [
    "## **4. Histograms**  \n",
    "A histogram visually presents quantitative data.  \n",
    "A histogram is a widely used graph to show the distribution of quantitative (numerical) data.\n",
    "\n",
    "It shows the **frequency** of values in the data, usually in intervals of values. Frequency is the amount of times that value appeared in the data.\n",
    "\n",
    "Each interval is represented with a bar, placed next to the other intervals on a number line.\n",
    "\n",
    "The height of the bar represents the frequency of values in that interval.\n",
    "\n",
    "Here is a histogram of the age of all 934 Nobel Prize winners up to the year 2020:  \n",
    "\n",
    "<img src='Histogram_1.png'>  \n",
    "\n",
    "This histogram uses age intervals from 10 to 19, 20 to 29, and so on.  \n",
    "\n",
    "> **Note:** Histograms are similar to bar graphs, which are used for qualitative data."
   ]
  },
  {
   "cell_type": "markdown",
   "metadata": {},
   "source": [
    "## **4.1 Bin Width**  \n",
    "The intervals of values are often called 'bins'. And the length of an interval is called 'bin width'.\n",
    "\n",
    "We can choose any width. It is best with a bin width that shows enough detail without being confusing.\n",
    "\n",
    "Here is a histogram of the same Nobel Prize winner data, but with bin widths of 5 instead of 10:  \n",
    "<img src='Histogram_2.png'> \n",
    "\n",
    "This histogram uses age intervals from from 15 to 19, 20 to 24, 25 to 29, and so on.\n",
    "\n",
    "Smaller intervals gives a more detailed look at the distribution of the age values in the data.\n"
   ]
  },
  {
   "cell_type": "markdown",
   "metadata": {},
   "source": [
    "## **5. Bar Graphs**  \n",
    "A bar graph visually presents qualitative data.  \n",
    "\n",
    "Bar graphs are used show the distribution of qualitative (categorical) data.\n",
    "\n",
    "It shows the **frequency** of values in the data. Frequency is the amount of times that value appeared in the data.\n",
    "\n",
    "Each category is represented with a bar. The height of the bar represents the frequency of values from that category in the data.\n",
    "\n",
    "Here is a bar graph of the number of people who have won a Nobel Prize in each category up to the year 2020:  \n",
    "\n",
    "<img src='Bar_graph_1.png'>  \n",
    "\n",
    "Some of the categories have existed longer than others. Multiple winners are also more common in some categories. So there is a different number of winners in each category.\n",
    "\n",
    "> **Note:** Bar graphs are similar to histograms, which are used for quantitiative data."
   ]
  },
  {
   "cell_type": "markdown",
   "metadata": {},
   "source": [
    "## **6. Pie Charts**  \n",
    "A pie chart visually presents qualitative data.  \n",
    "\n",
    "Pie graphs are used to show the distribution of qualitative (categorical) data.\n",
    "\n",
    "It shows the **frequency** or **relative frequency** of values in the data.\n",
    "\n",
    "Frequency is the amount of times that value appeared in the data. Relative frequency is the percentage of the total.\n",
    "\n",
    "Each category is represented with a slice in the 'pie' (circle). The size of each slice represents the frequency of values from that category in the data.\n",
    "\n",
    "Here is a pie chart of the number of people who have won a Nobel Prize in each category up to the year 2020:  \n",
    "\n",
    "<img src='Pie_chart_1.png'> \n",
    " \n",
    "This pie chart shows relative frequency. So each slice is sized by the percentage for each category.\n",
    "\n",
    "Some of the categories have existed longer than others. Multiple winners are also more common in some categories. So there is a different number of winners in each category.\n"
   ]
  },
  {
   "cell_type": "markdown",
   "metadata": {},
   "source": [
    "## **7. Box Plots**  \n",
    "A box plot is a graph used to show key features of quantitative data.  \n",
    "\n",
    "A box plot is a good way to show many important features of quantitative (numerical) data.\n",
    "\n",
    "It shows the median of the data. This is the middle value of the data and one type of an average value.\n",
    "\n",
    "It also shows the range and the quartiles of the data. This tells us something about how spread out the data is.\n",
    "\n",
    "Here is a box plot of the age of all the Nobel Prize winners up to the year 2020:  \n",
    "\n",
    "<img src='Box_plot_1.png'>  \n",
    "\n",
    "The **median** is the red line through the middle of the 'box'. We can see that this is just above the number 60 on the number line below. So the middle value of age is 60 years.\n",
    "\n",
    "The left side of the box is the 1st **quartile**. This is the value that separates the first **quarter**, or 25% of the data, from the rest. Here, this is 51 years.\n",
    "\n",
    "The right side of the box is the 3rd **quartile**. This is the value that separates the first three **quarters**, or 75% of the data, from the rest. Here, this is 69 years.\n",
    "\n",
    "The distance between the sides of the box is called the **inter-quartile range (IQR)**. This tells us where the 'middle half' of the values are. Here, half of the winners were between 51 and 69 years.\n",
    "\n",
    "The ends of the lines from the box at the left and the right are the minimum and maximum values in the data. The distance between these is called the **range**.\n",
    "\n",
    "The youngest winner was 17 years old, and the oldest was 97 years old. So the range of the age of winners was 80 years.  \n",
    "\n",
    "> **Note:** Box plots are also called 'box and whiskers plots'."
   ]
  },
  {
   "cell_type": "markdown",
   "metadata": {},
   "source": [
    "## **8. Average**  \n",
    "An average is a measure of where most of the values in the data are located.  \n",
    "\n",
    "## **The Center of the Data**  \n",
    "The center of the data is where most of the values in the data are located. Averages are measures of the location of the center.\n",
    "\n",
    "There are different types of averages. The most commonly used are:\n",
    "- Mean\n",
    "- Median\n",
    "- Mode  \n",
    "\n",
    "> **Note:** In statistics, averages are often referred to as 'measures of central tendency'."
   ]
  },
  {
   "cell_type": "markdown",
   "metadata": {},
   "source": [
    "## **9. Mean**  \n",
    "The mean is usually referred to as 'the average'.  \n",
    "The mean is a type of average value, which describes where center of the data is located.  \n",
    "\n",
    "The mean is the sum of all the values in the data divided by the total number of values in the data:  \n",
    "(40 + 21 + 55 + 31 + 48 + 13 + 72)/7 = 38.57  \n",
    "\n",
    "The mean is calculated for numerical variables. A variable is something in the data that can vary, like:\n",
    "\n",
    "- Age\n",
    "- Height\n",
    "- Income\n",
    "\n",
    "> **Note:** There are are multiple types of mean values. The most common type of mean is the arithmetic mean.\n",
    ">\n",
    ">In this tutorial, 'mean' refers to the arithmetic mean."
   ]
  },
  {
   "cell_type": "markdown",
   "metadata": {},
   "source": [
    "## **9.1 Calculating the Mean**  \n",
    "You can calculate the mean for both the population and the sample.\n",
    "\n",
    "The formulas are the same and uses different symbols to refer to the population mean ($\\mu$) and sample mean ($\\bar{x}$).\n",
    "\n",
    "Calculating the **population mean** ($\\mu$) is done with this formula:  \n",
    "$\\displaystyle  \\mu = \\frac{\\sum x_{i}}{n}$ \n",
    "\n",
    "Calculating the sample mean ($\\bar{x}$) is done with this formula:  \n",
    "$\\displaystyle \\bar{x} = \\frac{\\sum x_{i}}{n}$\n",
    " \n",
    "\n",
    "The bottom part of the fraction ($n$) is the total number of observations.\n",
    "\n",
    " $\\sum$ is the symbol for adding together a list of numbers.\n",
    "\n",
    " $x_{i}$ is the list of values in the data: $x_{1}, x_{2}, x_{3}, \\ldots$\n",
    "\n",
    "The top part of the fraction ($\\sum x_{i}$) is the sum of $x_{1}, x_{2}, x_{3}, \\ldots$ added together.\n",
    "\n",
    "So, if a sample has 4 observations with values: 4, 11, 7, 14 the calculation is:  \n",
    "$\\displaystyle \\bar{x} = \\frac{4 + 11 + 7 + 14}{4} = \\frac{36}{4} = \\underline{9}$"
   ]
  },
  {
   "cell_type": "markdown",
   "metadata": {},
   "source": [
    "## **9.2 Calculation with Programming**  \n",
    "The mean can easily be calculated with many programming languages.\n",
    "\n",
    "Using software and programming to calculate statistics is more common for bigger sets of data, as calculating by hand becomes difficult.  \n",
    "  \n",
    "Example\n",
    "With Python use the NumPy library mean() method to find the mean of the values 4,11,7,14:\n"
   ]
  },
  {
   "cell_type": "code",
   "execution_count": 19,
   "metadata": {},
   "outputs": [
    {
     "name": "stdout",
     "output_type": "stream",
     "text": [
      "9.0\n"
     ]
    }
   ],
   "source": [
    "import numpy \n",
    "\n",
    "valuesMean = [4, 11, 7, 14]\n",
    "mean = numpy.mean(valuesMean)\n",
    "\n",
    "print(mean)"
   ]
  },
  {
   "cell_type": "markdown",
   "metadata": {},
   "source": [
    "## **9.3 Statistics Symbol Reference**  \n",
    "\n",
    "|Symbol|Description|\n",
    "|---|---|\n",
    "|$\\mu$|The population mean. Pronounced 'mu'.|\n",
    "|$\\bar{x}$|The sample mean. Pronounced 'x-bar'.|\n",
    "|$\\sum$|The summation operator, 'capital sigma'.|\n",
    "|$x$|The variable 'x' we are calculating the average for.|\n",
    "|$i$|The index 'i' of the variable 'x'. This identifies each observation for a variable.|\n",
    "|$n$|The number of observations.|"
   ]
  },
  {
   "cell_type": "markdown",
   "metadata": {},
   "source": [
    "## **10. Median**  \n",
    "The median is the '**middle** value' of the data set ordered from low to high.   \n",
    "The median is a type of average value, which describes where the center of the data is located.\n",
    "\n",
    "The median is found by ordering all the values in the data and picking the middle value:  \n",
    "> 13, 21, 21, 40, 48, 55, 72 = 40  \n",
    "\n",
    "The median is less influenced by extreme values in the data than the mean.\n",
    "\n",
    "Changing the last value to 356 does not change the median:  \n",
    "> 13, 21, 21, 40, 48, 55, 356  \n",
    "\n",
    "The median is still 40.\n",
    "\n",
    "Changing the last value to 356 changes the mean a lot:  \n",
    "> (13 + 21 + 21 + 40 + 48 + 55 + 72)/7 = 38.57\n",
    ">\n",
    "> (13 + 21 + 21 + 40 + 48 + 55 + 356)/7 = 79.14  \n",
    "\n",
    "***\n",
    "> **Note:** Extreme values are values in the data that are much smaller or larger than the average values in the data."
   ]
  },
  {
   "cell_type": "markdown",
   "metadata": {},
   "source": [
    "## **10.1 Finding the Median**  \n",
    "The median can only be calculated for numerical variables.\n",
    "\n",
    "The formula for finding the middle value is:\n",
    "$\\displaystyle \\frac{n + 1}{2}$\n",
    " \n",
    "\n",
    "Where $n$ is the total number of observations.\n",
    "\n",
    "If the total number of observations is an **odd** number, the formula gives a whole number and the value of this observation is the median.\n",
    "\n",
    "> 13, 21, 21, 40, 48, 55, 72 = 40 \n",
    "\n",
    "Here, there are 7 total observations, so the median is the 4th value:  \n",
    "$\\displaystyle \\frac{7 + 1}{2} = \\frac{8}{2} = 4$\n",
    " \n",
    " \n",
    "\n",
    "The 4th value in the ordered list is **40**, so that is the median.\n",
    "\n",
    "If the total number of observations is an **even** number, the formula gives a decimal number between two observations.\n",
    "\n",
    "> 13, 21, 21, 40, 42, 48, 55, 72 = 40 and 42\n",
    "\n",
    "Here, there are 8 total observations, so the median is between the 4th and 5th values:  \n",
    "$\\displaystyle \\frac{8 + 1}{2} = \\frac{9}{2} = 4.5$\n",
    " \n",
    " \n",
    "\n",
    "The 4th and 5th values in the ordered list is **40** and **42**, so the median is the mean of these two values. That is, the sum of those two values divided by 2:  \n",
    "$\\displaystyle \\frac{40+42}{2} = \\frac{82}{2} = \\underline{41}$\n",
    "\n",
    " \n",
    "> **Note:** It is important that the numbers are ordered before you can find the median."
   ]
  },
  {
   "cell_type": "markdown",
   "metadata": {},
   "source": [
    "## **10.2 Finding the Median with Programming**  \n",
    "The median can easily be found with many programming languages.\n",
    "\n",
    "Using software and programming to calculate statistics is more common for bigger sets of data, as finding it manually becomes difficult.\n",
    "\n",
    "Example\n",
    "With Python use the NumPy library **median()** method to find the median of the values 13, 21, 21, 40, 42, 48, 55, 72:"
   ]
  },
  {
   "cell_type": "code",
   "execution_count": 20,
   "metadata": {},
   "outputs": [
    {
     "name": "stdout",
     "output_type": "stream",
     "text": [
      "41.0\n"
     ]
    }
   ],
   "source": [
    "valuesMedian = [13,21,21,40,42,48,55,72]\n",
    "\n",
    "median = numpy.median(valuesMedian)\n",
    "\n",
    "print(median)"
   ]
  },
  {
   "cell_type": "markdown",
   "metadata": {},
   "source": [
    "## **11. Mode**  \n",
    "The **mode** is the value(s) that appears most often in the data:  \n",
    "The mode is a type of average value, which describes where most of the data is located.  \n",
    "\n",
    "The mode is the value(s) that are the most common in the data.  \n",
    "A dataset can have multiple values that are modes.  \n",
    "A distribution of values with only one mode is called **unimodal**.  \n",
    "A distribution of values with two modes is called **bimodal**. In general, a distribution with more than one mode is called **multimodal**.  \n",
    "Mode can be found for both categorical and numerical data.  \n",
    "\n",
    "> 40, 21, 55, <u>21</u>, 48, 13, 72\n",
    "\n",
    "Here, 21 appears two times, and the other values only once. The mode of this data is 21.\n",
    "\n",
    "The mode is also used for **categorical data**, unlike the median and mean. Categorical data can't be described directly with numbers, like names:\n",
    "\n",
    "> Alice, <u>John</u>, Bob, Maria, <u>John</u>, Julia, Carol\n",
    "\n",
    "Here, John appears two times, and the other values only once. The mode of this data is John.\n",
    "\n",
    "> **Note:** There can be more than one mode if multiple values appear the same number of times in the data.\n",
    "\n"
   ]
  },
  {
   "cell_type": "markdown",
   "metadata": {},
   "source": [
    "## **11.1 Finding the Mode**  \n",
    "Here is a **numerical** example:\n",
    "\n",
    "4, <u>7</u>, 3, 8, 11, <u>7</u>, 10, 19, 6, 9, <u>12</u>, <u>12</u>\n",
    "\n",
    "Both 7 and 12 appears two times each, and the other values only once. The modes of this data is 7 and 12.\n",
    "\n",
    "Here is a **categorical** example with names:\n",
    "\n",
    "Alice, <u>John</u>, Bob, Maria, <u>John</u>, Julia, Carol\n",
    "\n",
    "John appears two times, and the other values only once. The mode of this data is John."
   ]
  },
  {
   "cell_type": "markdown",
   "metadata": {},
   "source": [
    "## **11.2 Finding the Mode with Programming**  \n",
    "The mode can easily be found with many programming languages.\n",
    "\n",
    "Using software and programming to calculate statistics is more common for bigger sets of data, as calculating manually becomes difficult.\n",
    "\n",
    "Example\n",
    "With Python use the statistics library multimode() method to find the modes of the values 4,7,3,8,11,7,10,19,6,9,12,12:  "
   ]
  },
  {
   "cell_type": "code",
   "execution_count": 21,
   "metadata": {},
   "outputs": [
    {
     "name": "stdout",
     "output_type": "stream",
     "text": [
      "[7, 12]\n"
     ]
    }
   ],
   "source": [
    "from statistics import multimode\n",
    "\n",
    "valuesMode = [4,7,3,8,11,7,10,19,6,9,12,12]\n",
    "\n",
    "mode = multimode(valuesMode)\n",
    "\n",
    "print(mode)"
   ]
  },
  {
   "cell_type": "markdown",
   "metadata": {},
   "source": [
    "## **12 Variation**  \n",
    "Variation is a measure of how spread out the data is around the centre of the data.  \n",
    "\n",
    "### **The Variation of the Data**\n",
    "Measures of variation are statistics of how far away the values in the observations (data points) are from each other.  \n",
    "\n",
    "There are different measures of variation. The most commonly used are:  \n",
    "1. Range\n",
    "2. Quartiles and Percentiles\n",
    "3. Interquartile Range\n",
    "4. Standard Deviation  \n",
    "\n",
    "Measures of variation combined with an average (measure of centre) gives a good picture of the distribution of the data.  \n",
    "\n",
    "> **Note:** These measures of variation can only be caclucated for numerical data."
   ]
  },
  {
   "cell_type": "markdown",
   "metadata": {},
   "source": [
    "## **13 Range**  \n",
    "The range is a measure of variation, which describes how spread out the data is.  \n",
    "\n",
    "The range is the difference between the smallest and the largest value of the data.  \n",
    "\n",
    "Range is the simplest measure of variation.\n",
    "\n",
    "Here is a histogram of the age of all 934 Nobel Prize winners up to the year 2020, showing the **range:**\n",
    "<img src='Range_1.png'>  \n",
    "  \n",
    "The youngest winner was 17 years and the oldest was 97 years. The range of ages for Nobel Prize winners is then 80 years.\n"
   ]
  },
  {
   "cell_type": "markdown",
   "metadata": {},
   "source": [
    "## **13.1 Calculating the Range**  \n",
    "The range can can only be calculated for numerical data.\n",
    "\n",
    "First, find the smallest and largest values of this example:  \n",
    "> <u>13</u>, 21, 21, 40, 48, 55, <u>72</u>\n",
    "\n",
    "Calculate the difference by substracting the smallest from the largest:  \n",
    "72 - 13 = <u>59</u>"
   ]
  },
  {
   "cell_type": "markdown",
   "metadata": {},
   "source": [
    "## **13.2 Calculating the Range with Programming**  \n",
    "The range can easily be found with many programming languages.\n",
    "\n",
    "Using software and programming to calculate statistics is more common for bigger sets of data, as finding it manually becomes difficult.\n",
    "\n",
    "Example\n",
    "With Python use the NumPy library `ptp()` method to find the range of the values 13, 21, 21, 40, 48, 55, 72:"
   ]
  },
  {
   "cell_type": "code",
   "execution_count": 22,
   "metadata": {},
   "outputs": [
    {
     "name": "stdout",
     "output_type": "stream",
     "text": [
      "59\n"
     ]
    }
   ],
   "source": [
    "import numpy\n",
    "\n",
    "valuesRange = [13,21,21,40,48,55,72]\n",
    "\n",
    "Range = numpy.ptp(valuesRange)\n",
    "\n",
    "print(Range)"
   ]
  },
  {
   "cell_type": "markdown",
   "metadata": {},
   "source": [
    "## **14 Quartiles and Percentiles**  \n",
    "Quartiles and percentiles are a measures of variation, which describes how spread out the data is.  \n",
    "Quartiles and percentiles are both types of **quantiles.**  \n",
    "\n",
    "Quartiles and percentiles are ways of separating equal numbers of values in the data into parts.\n",
    "\n",
    "1. **Quartiles :** are values that separate the data into four equal parts.\n",
    "\n",
    "2. **Percentiles :** are values that separate the data into 100 equal parts.\n",
    "\n",
    "Here is a histogram of the age of all 934 Nobel Prize winners up to the year 2020, showing the **quartiles:**  \n",
    "<img src='Quartiles_Percentiles.png'>  \n",
    "\n",
    "  \n",
    "The quartiles (Q0,Q1,Q2,Q3,Q4) are the values that separate each quarter.\n",
    "\n",
    "Between Q0 and Q1 are the 25% lowest values in the data. Between Q1 and Q2 are the next 25%. And so on.  \n",
    "- Q0 is the smallest value in the data.\n",
    "- Q2 is the middle value (median).\n",
    "- Q4 is the largest value in the data."
   ]
  },
  {
   "cell_type": "markdown",
   "metadata": {},
   "source": [
    "## **14.1 Quartiles**  \n",
    "**Quartiles** are values that separate the data into four equal parts.\n",
    "\n",
    "Here is a histogram of the age of all 934 Nobel Prize winners up to the year 2020, showing the **quartiles:**  \n",
    "<img src='Quartiles_Percentiles.png'>  \n",
    "The quartiles (Q0,Q1,Q2,Q3,Q4) are the values that separate each quarter.\n",
    "\n",
    "Between Q0 and Q1 are the 25% lowest values in the data. Between Q1 and Q2 are the next 25%. And so on.\n",
    "\n",
    "- Q0 is the smallest value in the data.\n",
    "- Q1 is the value separating the first quarter from the second quarter of the data.\n",
    "- Q2 is the middle value (median), separating the bottom from the top half.\n",
    "- Q3 is the value separating the third quarter from the fourth quarter\n",
    "- Q4 is the largest value in the data."
   ]
  },
  {
   "cell_type": "markdown",
   "metadata": {},
   "source": [
    "## **14.2 Calculating Quartiles with Programming**  \n",
    "Quartiles can easily be found with many programming languages.\n",
    "\n",
    "Using software and programming to calculate statistics is more common for bigger sets of data, as finding it manually becomes difficult.\n",
    "\n",
    "Example  \n",
    "With Python use the NumPy library `quantile()` method to find the quartiles of the values 13, 21, 21, 40, 42, 48, 55, 72:"
   ]
  },
  {
   "cell_type": "code",
   "execution_count": 23,
   "metadata": {},
   "outputs": [
    {
     "name": "stdout",
     "output_type": "stream",
     "text": [
      "[13.   21.   41.   49.75 72.  ]\n"
     ]
    }
   ],
   "source": [
    "import numpy\n",
    "\n",
    "valuesQuartiles = [13,21,21,40,42,48,55,72]\n",
    "\n",
    "quartiles = numpy.quantile(valuesQuartiles, [0,0.25,0.5,0.75,1])\n",
    "\n",
    "print(quartiles)"
   ]
  },
  {
   "cell_type": "markdown",
   "metadata": {},
   "source": [
    "## **14.3 Percentiles**  \n",
    "**Percentiles** are values that separate the data into 100 equal parts.\n",
    "\n",
    "For example, The 95th percentile separates the lowest 95% of the values from the top 5%\n",
    "\n",
    "The 25th percentile (P25%) is the same as the first quartile (Q1).\n",
    "\n",
    "The 50th percentile (P50%) is the same as the second quartile (Q2) and the median.\n",
    "\n",
    "THe 75th percentile (P75%) is the same as the third quartile (Q3)"
   ]
  },
  {
   "cell_type": "markdown",
   "metadata": {},
   "source": [
    "## **14.4 Calculating Percentiles with Programming**  \n",
    "Percentiles can easily be found with many programming languages.\n",
    "\n",
    "Using software and programming to calculate statistics is more common for bigger sets of data, as finding it manually becomes difficult.\n",
    "\n",
    "Example  \n",
    "With Python use the NumPy library `percentile()` method to find the `65`th percentile of the values 13, 21, 21, 40, 42, 48, 55, 72:"
   ]
  },
  {
   "cell_type": "code",
   "execution_count": 24,
   "metadata": {},
   "outputs": [
    {
     "name": "stdout",
     "output_type": "stream",
     "text": [
      "45.3\n"
     ]
    }
   ],
   "source": [
    "import numpy\n",
    "\n",
    "valuesPercentiles = [13,21,21,40,42,48,55,72]\n",
    "\n",
    "percentiles = numpy.percentile(valuesPercentiles, 65)\n",
    "\n",
    "print(percentiles)"
   ]
  },
  {
   "cell_type": "markdown",
   "metadata": {},
   "source": [
    "## **15 Interquartile Range**  \n",
    "Interquartile range is a measure of variation, which describes how spread out the data is.  \n",
    "\n",
    "Interquartile range is the difference between the first and third quartiles (Q1 and Q3).\n",
    "\n",
    "The 'middle half' of the data is between the first and third quartile.  \n",
    "\n",
    "The first quartile is the value in the data that separates the bottom 25% of values from the top 75%.\n",
    "\n",
    "The third quartile is the value in the data that separates the bottom 75% of the values from the top 25%\n",
    "\n",
    "Here is a histogram of the age of all 934 Nobel Prize winners up to the year 2020, showing the **interquartile range (IQR):**  \n",
    "<img src='InterQuartile_range.png'>  \n",
    "Here, the middle half of is between 51 and 69 years. The interquartile range for Nobel Prize winners is then 18 years."
   ]
  },
  {
   "cell_type": "markdown",
   "metadata": {},
   "source": [
    "## **15.1 Calculating the Interquartile Range with Programming**  \n",
    "The interquartile range can easily be found with many programming languages.\n",
    "\n",
    "Using software and programming to calculate statistics is more common for bigger sets of data, as finding it manually becomes difficult.\n",
    "\n",
    "Example  \n",
    "With Python use the SciPy library `iqr()` method to find the interquartile range of the values 13, 21, 21, 40, 42, 48, 55, 72:"
   ]
  },
  {
   "cell_type": "code",
   "execution_count": 25,
   "metadata": {},
   "outputs": [
    {
     "name": "stdout",
     "output_type": "stream",
     "text": [
      "28.75\n"
     ]
    }
   ],
   "source": [
    "from scipy import stats\n",
    "\n",
    "valuesInterQuartile = [13,21,21,40,42,48,55,72]\n",
    "\n",
    "interQuartile = stats.iqr(valuesInterQuartile)\n",
    "\n",
    "print(interQuartile)"
   ]
  },
  {
   "cell_type": "markdown",
   "metadata": {},
   "source": [
    "## **16. Standard Deviation**  \n",
    "Standard deviation is the most commonly used measure of variation, which describes how spread out the data is.  \n",
    "\n",
    "Standard deviation is the most used measure of variation.\n",
    "\n",
    "Standard deviation (σ) measures how far a 'typical' observation is from the average of the data (μ).\n",
    "\n",
    "Standard deviation is important for many statistical methods.\n",
    "\n",
    "Here is a histogram of the age of all 934 Nobel Prize winners up to the year 2020, showing **standard deviations:**  \n",
    "<img src='Standard_Deviation.png'>  \n",
    "> **Note:** A normal distribution has a \"bell\" shape and spreads out equally on both sides. \n",
    "Each dotted line in the histogram shows a shift of one extra standard deviation.\n",
    "\n",
    "If the data is **normally distributed:**  \n",
    "- Roughly 68.3% of the data is within 1 standard deviation of the average (from μ-1σ to μ+1σ)\n",
    "- Roughly 95.5% of the data is within 2 standard deviations of the average (from μ-2σ to μ+2σ)\n",
    "- Roughly 99.7% of the data is within 3 standard deviations of the average (from μ-3σ to μ+3σ)  \n",
    "\n",
    "> **Note:** Values within one standard deviation (σ) are considered to be typical.\n",
    "> \n",
    "> Values outside three standard deviations are considered to be outliers."
   ]
  },
  {
   "cell_type": "markdown",
   "metadata": {},
   "source": [
    "## **16.1 Calculating the Standard Deviation**  \n",
    "The formulas are **almost** the same and uses different symbols to refer to the standard deviation ($\\sigma$) and sample standard deviation ($s$).\n",
    "\n",
    "Calculating the **standard deviation** ($\\sigma$) is done with this formula:\n",
    "$\\displaystyle  \\sigma = \\sqrt{\\frac{\\sum (x_{i}-\\mu)^2}{n}}$  \n",
    "\n",
    "Calculating the sample **standard deviation ($s$)** is done with this formula:\n",
    "$\\displaystyle s = \\sqrt{\\frac{\\sum (x_{i}-\\bar{x})^2}{n-1}}$\n",
    " \n",
    "\n",
    " $n$ is the total number of observations.\n",
    "\n",
    " $\\sum$ is the symbol for adding together a list of numbers.\n",
    "\n",
    " $x_{i}$ is the list of values in the data: $x_{1}, x_{2}, x_{3}, \\ldots$\n",
    "\n",
    " $\\mu$ is the population mean and $\\bar{x}$ is the sample mean (average value).  \n",
    "\n",
    " $(x_{i} - \\mu )$ and $(x_{i} - \\bar{x} )$ are the differences between the values of the observations ($x_{i}$) and the mean.\n",
    "\n",
    "Each difference is squared and added together.\n",
    "\n",
    "Then the sum is divided by $n$ or $n - 1$) and then we find the square root.\n",
    "\n",
    "Using these 4 example values for calculating the **population standard deviation:**\n",
    "\n",
    "> 4, 11, 7, 14\n",
    "\n",
    "We must first find the <u>mean</u>:  \n",
    "$\\displaystyle \\mu = \\frac{\\sum x_{i}}{n} = \\frac{4 + 11 + 7 + 14}{4} = \\frac{36}{4} = \\underline{9}$  \n",
    "\n",
    "Then we find the difference between each value and the mean $(x_{i}- \\mu)$:  \n",
    "- $4-9 = -5$\n",
    "- $11-9 = 2$\n",
    "- $7-9 = -2$\n",
    "- $14-9 = 5$\n",
    "\n",
    "Each value is then squared, or multiplied with itself $( x_{i}- \\mu )^2$:  \n",
    "- $(-5)^2 = (-5)(-5) = 25$\n",
    "- $2^2 \\; \\; \\; \\; \\; \\, = 2*2 \\; \\; \\; \\; \\; \\; \\; \\: = 4$  \n",
    "- $(-2)^2 = (-2)(-2) = 4$\n",
    "- $5^2 \\; \\; \\; \\; \\; \\, = 5*5 \\; \\; \\; \\; \\; \\; \\; \\: = 25$\n",
    "\n",
    "All of the squared differences are then added together $\\sum (x_{i} -\\mu )^2$:\n",
    "$25 + 4 + 4 + 25 = 58$\n",
    "\n",
    "Then the sum is divided by the total number of observations, $n$:  \n",
    "$\\displaystyle \\frac{58}{4} = 14.5$\n",
    "\n",
    "Finally, we take the square root of this number:  \n",
    "$\\sqrt{14.5} \\approx \\underline{3.81}$\n",
    "\n",
    "So, the standard deviation of the example values is roughly: $3.81$ "
   ]
  },
  {
   "cell_type": "markdown",
   "metadata": {},
   "source": [
    "## **16.2 Calculating the Standard Deviation with Programming**  \n",
    "The standard deviation can easily be calculated with many programming languages.\n",
    "\n",
    "Using software and programming to calculate statistics is more common for bigger sets of data, as calculating by hand becomes difficult.\n",
    "\n",
    "**Population Standard Deviation**\n",
    "Example  \n",
    "With Python use the NumPy library **std()** method to find the standard deviation of the values 4,11,7,14:"
   ]
  },
  {
   "cell_type": "code",
   "execution_count": 26,
   "metadata": {},
   "outputs": [
    {
     "name": "stdout",
     "output_type": "stream",
     "text": [
      "3.8078865529319543\n"
     ]
    }
   ],
   "source": [
    "import numpy\n",
    "\n",
    "valuesStandardDeviation = [4,11,7,14]\n",
    "\n",
    "StandardDeviation = numpy.std(valuesStandardDeviation)\n",
    "\n",
    "print(StandardDeviation)"
   ]
  },
  {
   "cell_type": "markdown",
   "metadata": {},
   "source": [
    "**Sample Standard Deviation**  \n",
    "\n",
    "Example: 2  \n",
    "With Python use the NumPy library `std()` method to find the **sample** standard deviation of the values 4,11,7,14:"
   ]
  },
  {
   "cell_type": "code",
   "execution_count": 27,
   "metadata": {},
   "outputs": [
    {
     "name": "stdout",
     "output_type": "stream",
     "text": [
      "4.396968652757639\n"
     ]
    }
   ],
   "source": [
    "import numpy\n",
    "\n",
    "valuesStandardDeviation2 = [4,11,7,14]\n",
    "\n",
    "StandardDeviation2 = numpy.std(valuesStandardDeviation2, ddof=1)\n",
    "\n",
    "print(StandardDeviation2)"
   ]
  },
  {
   "cell_type": "markdown",
   "metadata": {},
   "source": [
    "## **16.3 Statistics Symbol Reference**  \n",
    "|Symbol|Description|\n",
    "|---|---|\n",
    "|$\\sigma$|Population standard deviation. Pronounced 'sigma'.|\n",
    "|$s$|Sample standard deviation.|\n",
    "|$\\mu$|The population mean. Pronounced 'mu'.|\n",
    "|$\\bar{x}$|The sample mean. Pronounced 'x-bar'.|\n",
    "|$\\sum$|The summation operator, 'capital sigma'.|\n",
    "|$x$|The variable 'x' we are calculating the average for.|\n",
    "|$i$|The index 'i' of the variable 'x'. This identifies each observation for a variable.|\n",
    "|$n$|The number of observations.|"
   ]
  }
 ],
 "metadata": {
  "interpreter": {
   "hash": "4dc1cc02c367ca7ad0b1fc5e376b41e09845a28f3f36f373698abec275ce0fd0"
  },
  "kernelspec": {
   "display_name": "Python 3.8.8 64-bit ('base': conda)",
   "name": "python3"
  },
  "language_info": {
   "codemirror_mode": {
    "name": "ipython",
    "version": 3
   },
   "file_extension": ".py",
   "mimetype": "text/x-python",
   "name": "python",
   "nbconvert_exporter": "python",
   "pygments_lexer": "ipython3",
   "version": "3.8.8"
  },
  "orig_nbformat": 4
 },
 "nbformat": 4,
 "nbformat_minor": 2
}
