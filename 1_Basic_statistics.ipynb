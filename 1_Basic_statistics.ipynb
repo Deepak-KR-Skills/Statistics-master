{
 "cells": [
  {
   "cell_type": "markdown",
   "metadata": {},
   "source": [
    "# **Basic Statistics Concepts**"
   ]
  },
  {
   "cell_type": "markdown",
   "metadata": {},
   "source": [
    "## **1.1 Statistics Introduction**  \n",
    " Statistics gives us methods of gaining knowledge from data."
   ]
  },
  {
   "cell_type": "markdown",
   "metadata": {},
   "source": [
    "## **What is Statistics Used for?**  \n",
    "Statistics is used in all kinds of science and business applications.  \n",
    "  \n",
    "Statistics gives us more accurate knowledge which helps us make better decisions.  \n",
    "  \n",
    "Statistics can focus on making predictions about what will happen in the future. It can also focus on explaining how different things are connected.  "
   ]
  },
  {
   "cell_type": "markdown",
   "metadata": {},
   "source": [
    "## **Typical Steps of Statistical Methods**  \n",
    "The typical steps are:\n",
    " - Gathering data\n",
    " - Describing and visualizing data\n",
    " - Making conclusions\n",
    "It is important to keep all three steps in mind for any questions we want more knowledge about.\n",
    "\n",
    "Knowing which types of data are available can tell you what kinds of questions you can answer with statistical methods.\n",
    "\n",
    "Knowing which questions you want to answer can help guide what sort of data you need. A lot of data might be available, and knowing what to focus on is important."
   ]
  },
  {
   "cell_type": "markdown",
   "metadata": {},
   "source": [
    "## **How is Statistics Used?**  \n",
    "Statistics can be used to explain things in a precise way. You can use it to understand and make conclusions about the group that you want to know more about. This group is called the **`population`**.\n",
    "\n",
    "A population could be many different kinds of groups. It could be:\n",
    "\n",
    " - All of the people in a country\n",
    " - All the businesses in an industry\n",
    " - All the customers of a business\n",
    " - All people that play football who are older than 45\n",
    "and so on - it just depends on what you want to know about.\n",
    "\n",
    "Gathering data about the population will give you a sample. This is a part of the whole population. Statistical methods are then used on that sample.\n",
    "\n",
    "The results of the statistical methods from the sample is used to make conclusions about the population."
   ]
  },
  {
   "cell_type": "markdown",
   "metadata": {},
   "source": [
    "## **Important Concepts in Statistics**  \n",
    "1. Predictions and Explanations\n",
    "2. Populations and Samples\n",
    "3. Parameters and Sample Statistics\n",
    "4. Sampling Methods\n",
    "5. Data Types\n",
    "6. Measurement Level\n",
    "7. Descriptive Statistics\n",
    "8. Random Variables\n",
    "9. Univariate and Multivariate Statistics\n",
    "10. Probability Calculation\n",
    "11. Probability Distributions\n",
    "12. Statistical Inference\n",
    "13. Parameter Estimation\n",
    "14. Hypothesis Testing\n",
    "15. Correlation\n",
    "16. Regression Analysis\n",
    "17. Causal Inference  \n",
    "These all topics are discussed step by step in this tutorial file and comming tutorial files."
   ]
  },
  {
   "cell_type": "markdown",
   "metadata": {},
   "source": [
    "## **Statistics and Programming**  \n",
    "Statistical analysis is typically done with computers. Small amounts of data can analyzed reasonably well without computers.\n",
    "\n",
    "Historically, all data analysis was performed by manually. It was time-consuming and prone to errors.\n",
    "\n",
    "Nowadays, programming and software is typically used for data analysis.\n",
    "\n",
    "In this course, we will show examples of code to do statistics with the programming languages Python."
   ]
  },
  {
   "cell_type": "markdown",
   "metadata": {},
   "source": [
    "## **1.2 Gathering Data**  \n",
    "Gathering data is the first step in statistical analysis.\n",
    "\n",
    "Say for example that you want to know something about all the people in France.\n",
    "\n",
    "The **population** is then all of the people in France.\n",
    "\n",
    "It is too much effort to gather information about all of the members of a population (e.g. all 67+ million people living in France). It is often much easier to collect a smaller group of that population and analyze that. This is called a **`sample`**."
   ]
  },
  {
   "cell_type": "markdown",
   "metadata": {},
   "source": [
    "## **A representative sample**  \n",
    "The sample needs to be **`similar`** to the whole population of France. It should have the same characteristics as the population. If you only include people named Jacques living in Paris who are 48 years old, the sample will not be similar to the whole population.\n",
    "\n",
    "So for a good sample, you will need people from all over France, with different ages, professions, and so on.\n",
    "\n",
    "If the members of the sample have similar characteristics (like age, profession, etc.) to the whole population of France, we say that the sample is **`representative`** of the population.\n",
    "\n",
    "A good **`representative sample`** is crucial for statistical methods."
   ]
  },
  {
   "cell_type": "markdown",
   "metadata": {},
   "source": [
    "> **Note:** Data from a proper sample is often just as good data from the whole population, as long as it is representative!  \n",
    "  A good sample allows you to make accurate conclusions about the whole population."
   ]
  },
  {
   "cell_type": "markdown",
   "metadata": {},
   "source": [
    "## **1.3 Describing Data**  \n",
    "Describing data is typically the second step of statistical analysis after gathering data."
   ]
  },
  {
   "cell_type": "markdown",
   "metadata": {},
   "source": [
    "## **Descriptive Statistics**  \n",
    "The information (data) from your sample or population can be visualized with graphs or **summarized** by numbers. This will show key information in a simpler way than just looking at raw data. It can help us understand how the data is **distributed**.\n",
    "\n",
    "Graphs can visually show the data distribution.  \n",
    "\n",
    "Examples of graphs include:  \n",
    "- Histograms\n",
    "- Pie charts\n",
    "- Bar graphs\n",
    "- Box plots  \n",
    "Some graphs have a close connection to numerical summary statistics. Calculating those gives us the basis of these graphs.\n",
    "\n",
    "For example, a box plot visually shows the **quartiles** of a data distribution.\n",
    "\n",
    "Quartiles are the data split into four equal size parts, or quarters. A quartile is one type of summary statistics."
   ]
  },
  {
   "cell_type": "markdown",
   "metadata": {},
   "source": [
    "## **Summary statistics**  \n",
    "Summary statistics take a large amount of information and sums it up in a few key values.\n",
    "\n",
    "Numbers are calculated from the data which also describe the shape of the distributions. These are individual 'statistics'.\n",
    "\n",
    "Some important examples are:\n",
    "- Mean, median and mode\n",
    "- Range and interquartile range\n",
    "- Quartiles and percentiles\n",
    "- Standard deviation and variance"
   ]
  },
  {
   "cell_type": "markdown",
   "metadata": {},
   "source": [
    "> **Note:** Descriptive statistics is often presented as a part of statistical analysis.\n",
    "  \n",
    "***\n",
    "> Descriptive statistics is also useful for guiding further analysis, giving insight into the data, and finding what is worth investigating more closely."
   ]
  },
  {
   "cell_type": "markdown",
   "metadata": {},
   "source": [
    "## **1.4 Making Conclusions**  \n",
    "Using statistics to make conclusions about a population is called statistical inference.  \n",
    "\n",
    "Types:  \n",
    "- Statistical Inference.\n",
    "- Causal Inference."
   ]
  },
  {
   "cell_type": "markdown",
   "metadata": {},
   "source": [
    "## **Statistical Inference**  \n",
    "Statistics from the data in the **sample** is used to make conclusions about the whole **population**. This is a type of **statistical inference**.\n",
    "\n",
    "**Probability theory** is used to calculate the certainty that those statistics also apply to the population.\n",
    "\n",
    "When using a sample, there will **always** be some uncertainty about what the data looks like for the population.\n",
    "\n",
    "Uncertainty is often expressed as **confidence intervals**.\n",
    "\n",
    "Confidence intervals are numerical ways of showing how likely it is that the **true value** of this statistic is within a certain range for the population.\n",
    "\n",
    "**Hypothesis testing** is a another way of checking if a statement about a population is true. More precisely, it checks how likely it is that a hypothesis is true is based on the sample data.\n",
    "\n",
    "Some examples of statements or questions that can be checked with hypothesis testing:  \n",
    "- People in the Netherlands taller than people in Denmark\n",
    "- Do people prefer Pepsi or Coke?\n",
    "- Does a new medicine cure a disease?"
   ]
  },
  {
   "cell_type": "markdown",
   "metadata": {},
   "source": [
    "> **Note:** Confidence intervals and hypothesis testing are closely related and describe the same things in different ways. Both are widely used in science."
   ]
  },
  {
   "cell_type": "markdown",
   "metadata": {},
   "source": [
    "## **Causal Inference**  \n",
    "Causal inference is used to investigate if something causes another thing.\n",
    "\n",
    "For example: Does rain make plants grow?\n",
    "\n",
    "If we think two things are related we can investigate to see if they **correlate**. Statistics can be used to find out how strong this relation is.\n",
    "\n",
    "Even if things are correlated, finding out of something is caused by other things can be difficult. It can be done with good **experimental design** or other special statistical techniques."
   ]
  },
  {
   "cell_type": "markdown",
   "metadata": {},
   "source": [
    "> **Note:** Good experimental design is often difficult to achieve because of ethical concerns or other practical reasons."
   ]
  },
  {
   "cell_type": "markdown",
   "metadata": {},
   "source": [
    "## **1.5 Prediction and Explanation**  \n",
    "Some types of statistical methods are focused on predicting what will happen.\n",
    "\n",
    "Other types of statistical methods are focused on explaining how things are connected."
   ]
  },
  {
   "cell_type": "markdown",
   "metadata": {},
   "source": [
    "## **Prediction**  \n",
    "Some statistical methods are not focused on explaining how things are connected. Only the accuracy of prediction is important.\n",
    "\n",
    "Many statistical methods are successful at predicting without giving insight into how things are connected.\n",
    "\n",
    "Some types of machine learning let computers do the hard work, but the way they predict is difficult to understand. These approaches can also be vulnerable to mistakes if the circumstances change, since the how they work is less clear.\n",
    "\n",
    "> **Note:** Predictions about future events are called **forecasts**. Not all predictions are about the future.\n",
    "\n",
    "Some predictions can be about something else that is unknown, even if it is not in the future."
   ]
  },
  {
   "cell_type": "markdown",
   "metadata": {},
   "source": [
    "## **Explanation**  \n",
    "Different statistical methods are often used for explaning how things are connected. These statistical methods may not make good predictions.\n",
    "\n",
    "These statistical methods often explain only small parts of the whole situation. But, if you only want to know how a few things are connected, the rest might not matter.\n",
    "\n",
    "If these methods accurately explains how all the relevant things are connected, they will also be good at prediction. But managing to explain every detail is often challenging.\n",
    "\n",
    "Some times we are specifically interested in figuring out if one thing causes another. This is called **causal inference**.\n",
    "\n",
    "If we are looking at complicated situations, many things are connected. To figure out what causes what, we need to untangle every way these things are connected.\n",
    "\n",
    "> **Note:** Making conclusions about causality should be done carefully."
   ]
  },
  {
   "cell_type": "markdown",
   "metadata": {},
   "source": [
    "## **1.6 Populations and Samples**  \n",
    "The terms 'population' and 'sample' are important in statistics and refer to key concepts that are closely related.\n"
   ]
  },
  {
   "cell_type": "markdown",
   "metadata": {},
   "source": [
    "## **Population and Samples**  \n",
    "**Population:** Everything in the group that we want to learn about.\n",
    "\n",
    "**Sample:** A part of the population.\n",
    "\n",
    "Examples of populations and a sample from those populations:\n",
    "\n",
    "|Population|Sample|  \n",
    "|---|---|  \n",
    "|All of the people in Germany|500 Germans|\n",
    "|All of the customers of Netflix|300 Netflix customers|\n",
    "|Every car manufacturer|Tesla, Toyota, BMW, Ford|  \n",
    "\n",
    "For good statistical analysis, the sample needs to be as \"similar\" as possible to the population. If they are similar enough, we say that the sample is **representative** of the population.\n",
    "\n",
    "The sample is used to make conclusions about the whole population. If the sample is not similar enough to the whole population, the conclusions could be useless.\n",
    "\n",
    "> **Note:** Many words have specific meanings in statistics.  \n",
    "**  \n",
    "> The word 'population' normally refers to a group of people. In statistics, it is any specific group that we are interested in learning about."
   ]
  },
  {
   "cell_type": "markdown",
   "metadata": {},
   "source": [
    "## **1.7 Parameters and Statistics**  \n",
    "The terms 'parameter' and (sample) 'statistic' refer to key concepts that are closely related in statistics.\n",
    "\n",
    "They are also directly connected to the concepts of populations and samples."
   ]
  },
  {
   "cell_type": "markdown",
   "metadata": {},
   "source": [
    "## **Parameters and Statistics**  \n",
    "**Parameter:** A number that describes something about the whole population.\n",
    "\n",
    "**Sample statistic:** A number that describes something about the **sample**.\n",
    "\n",
    "The parameters are the key things we want to learn about. The parameters are usually unknown.\n",
    "\n",
    "Sample statistics gives us **estimates** for parameters.\n",
    "\n",
    "There will always be some **uncertainty** about how accurate estimates are. More certainty gives us more useful knowledge.\n",
    "\n",
    "For every parameter we want to learn about we can get a sample and calculate a sample statistic, which gives us an estimate of the parameter."
   ]
  },
  {
   "cell_type": "markdown",
   "metadata": {},
   "source": [
    "## **Some Important Examples**  \n",
    "|Parameter|Sample statistic|\n",
    "|---|---|\n",
    "|Mean|Sample mean|\n",
    "|Median|Sample median|\n",
    "|Mode|Sample mode|\n",
    "|Variance|Sample variance|\n",
    "|Standard deviation|Sample standard deviation|  \n",
    "  \n",
    "**Mean, median and mode** are different types of averages (typical values in a population).\n",
    "\n",
    "For example:\n",
    "\n",
    "- The typical age of people in a country\n",
    "- The typical profits of a company\n",
    "- The typical range of an electric car\n",
    "**Variance** and **standard deviation** are two types of values describing how spread out the values are.\n",
    "\n",
    "A single class of students in a school would usually be about the same age. The age of the students will have **low** variance and standard deviation.\n",
    "\n",
    "A whole country will have people of all kinds of different ages. The variance and standard deviation of age in the whole country would then be **bigger** than in a single school grade."
   ]
  },
  {
   "cell_type": "markdown",
   "metadata": {},
   "source": [
    "## **1.8 Study Types**  \n",
    "A statistical study can be a part of the processs of gathering data.\n",
    "\n",
    "There are different types of studies. Some are better than others, but they might be harder to do."
   ]
  },
  {
   "cell_type": "markdown",
   "metadata": {},
   "source": [
    "## **Main Types of Statistical Studies**  \n",
    "The main types of statistical studies are **observational** and **experimental** studies.\n",
    "\n",
    "We are often interested in knowing if something is the **cause** of another thing.\n",
    "\n",
    "Experimental studies are generally better than observational studies for investigating this, but usually require more effort.\n",
    "\n",
    "An observational study is when observe and gather data without changing anything."
   ]
  },
  {
   "cell_type": "markdown",
   "metadata": {},
   "source": [
    "## **Experimental Studies**  \n",
    "In an experimental study, the **circumstances** around the sample is changed. Usually, we compare two groups from a population and these two groups are treated **differently**.\n",
    "\n",
    "One example can be a medical study to see if a new medicine is effective.\n",
    "\n",
    "One group receives the medicine and the other does not. These are the different circumstances around those samples.\n",
    "\n",
    "We can compare the health of both groups afterwards and see if the results are different.\n",
    "\n",
    "Experimental studies can allow us to investigate causal relationships. A well designed experimental study can be useful since it can **isolate** the relationship we are interested in from **other effects**. Then we can be more confident that we are measuring the true effect."
   ]
  },
  {
   "cell_type": "markdown",
   "metadata": {},
   "source": [
    "## **1.9 Sample Types**  \n",
    "A study needs participants and there are different ways of gathering them.\n",
    "\n",
    "Some methods are better than others, but they might be more difficult."
   ]
  },
  {
   "cell_type": "markdown",
   "metadata": {},
   "source": [
    "## **Different Types of Sampling Methods**  \n",
    "1. Random Sampling  \n",
    "2. Convenience Sampling\n",
    "3. Systematic Sampling \n",
    "4. Stratified Sampling\n",
    "5. Clustered Sampling"
   ]
  },
  {
   "cell_type": "markdown",
   "metadata": {},
   "source": [
    "## **1.9.1 Random Sampling**  \n",
    "A random sample is where every member of the population has an **equal chance** to be chosen.\n",
    "\n",
    "Random sampling is the best. But, it can be difficult, or impossible, to make sure that it is completely random.\n",
    "\n",
    "> **Note:** Every other sampling method is compared to how close it is to a random sample - the closer, the better."
   ]
  },
  {
   "cell_type": "markdown",
   "metadata": {},
   "source": [
    "## **1.9.2 Convenience Sampling**  \n",
    "A convience sample is where the participants that are the easiest to reach are chosen.\n",
    "\n",
    "> **Note:** Convenience sampling is the easiest to do.\n",
    "**\n",
    "> In many cases this sample will not be similar enough to the population, and the conclusions can potentially be useless."
   ]
  },
  {
   "cell_type": "markdown",
   "metadata": {},
   "source": [
    "## **1.9.3 Systematic Sampling**  \n",
    "A systematic sample is where the participants are chosen by some regular system.\n",
    "\n",
    "For example:\n",
    "- The first 30 people in a queue\n",
    "- Every third on a list\n",
    "- The first 10 and the last 10"
   ]
  },
  {
   "cell_type": "markdown",
   "metadata": {},
   "source": [
    "## **1.9.4 Stratified Sampling**  \n",
    "A stratified sample is where the population is split into smaller groups called 'strata'.\n",
    "\n",
    "The 'strata' can, for example, be based on demographics, like:\n",
    "- Different age groups\n",
    "- Professions  \n",
    "  \n",
    "Stratification of a sample is the first step. Another sampling method (like random sampling) is used for the second step of choosing participants from all of the smaller groups (strata)."
   ]
  },
  {
   "cell_type": "markdown",
   "metadata": {},
   "source": [
    "## **1.9.5 Clustered Sampling**  \n",
    "A clustered sample is where the population is split into smaller groups called 'clusters'.\n",
    "\n",
    "The clusters are usually natural, like different cities in a country.\n",
    "\n",
    "The clusters are chosen randomly for the sample.\n",
    "\n",
    "All members of the clusters can participate in the sample, or members can be chosen randomly from the clusters in a third step."
   ]
  },
  {
   "cell_type": "markdown",
   "metadata": {},
   "source": [
    "## **2.0 Data Types**  \n",
    "Data can be different types, and require different types of statistical methods to analyze."
   ]
  },
  {
   "cell_type": "markdown",
   "metadata": {},
   "source": [
    "## **Different types of data**  \n",
    "There are two main types of data: Qualitative (or 'categorical') and quantitative (or 'numerical'). These main types also have different sub-types depending on their **measurement level**."
   ]
  },
  {
   "cell_type": "markdown",
   "metadata": {},
   "source": [
    "## **Qualitative Data**  \n",
    "Information about something that can be sorted into different categories that can't be described directly by numbers.\n",
    "\n",
    "Examples:  \n",
    "- Brands\n",
    "- Nationality\n",
    "- Professions  \n",
    "  \n",
    "With categorical data we can calculate statistics like **proportions**. For example, the proportion of Indian people in the world, or the percent of people who prefer one brand to another."
   ]
  },
  {
   "cell_type": "markdown",
   "metadata": {},
   "source": [
    "## **Quantitative Data**  \n",
    "Information about something that is described by numbers.\n",
    "\n",
    "Examples:  \n",
    "- Income\n",
    "- Age\n",
    "- Height  \n",
    "\n",
    "With numerical data we can calculate statistics like the **average** income in a country, or the **range** of heights of players in a football team."
   ]
  },
  {
   "cell_type": "markdown",
   "metadata": {},
   "source": [
    "## **2.1 Measurement Levels**  \n",
    "Different data types have different measurement levels.\n",
    "\n",
    "Measurement levels are important for what types of statistics can be calculated and how to best present the data.  \n",
    "\n",
    "The main types of data are Qualitative (categories) and Quantitative (numerical). These are further split into the following measurement levels.\n",
    "\n",
    "These measurement levels are also called measurement 'scales'  \n",
    "1. Nominal Level\n",
    "2. Ordinal level\n",
    "3. Interval Level\n",
    "4. Ratio Level\n",
    "\n"
   ]
  },
  {
   "cell_type": "markdown",
   "metadata": {},
   "source": [
    "## **2.1.1 Nominal Level**  \n",
    "Categories (qualitative data) without any order.\n",
    "\n",
    "Examples:  \n",
    "- Brand names\n",
    "- Countries\n",
    "- Colors"
   ]
  },
  {
   "cell_type": "markdown",
   "metadata": {},
   "source": [
    "## **2.1.2 Ordinal level**  \n",
    "Categories that can be ordered (from low to high), but the precise \"distance\" between each is not meaningful.\n",
    "\n",
    "Examples:  \n",
    "- Letter grade scales from F to A\n",
    "- Military ranks\n",
    "- Level of satisfaction with a product  \n",
    "\n",
    "Consider letter grades from F to A: Is the grade A precisely twice as good as a B? And, is the grade B also twice as good as C?\n",
    "\n",
    "Exactly how much distance it is between grades is not clear and precise. If the grades are based on amounts of points on a test, you can say that there is a precise \"distance\" on the point scale, but not the grades themselves."
   ]
  },
  {
   "cell_type": "markdown",
   "metadata": {},
   "source": [
    "## **2.1.3 Interval Level**  \n",
    "Data that can be ordered and the distance between them is objectively meaningful. But there is no natural 0-value where the scale originates.\n",
    "\n",
    "Examples:  \n",
    "- Years in a calendar\n",
    "- Temperature measured in fahrenheit  \n",
    "\n",
    "> **Note:** Interval scales are usually invented by people, like degrees of temperature.  \n",
    "**  \n",
    "> 0 degrees celcius is 32 degrees of fahrenheit. There is consistent distances between each degree (for every 1 extra degree of celcius, there is 1.8 extra fahrenheit), but they do not agree on where 0 degrees is."
   ]
  },
  {
   "cell_type": "markdown",
   "metadata": {},
   "source": [
    "## **2.1.4 Ratio Level**  \n",
    "Data that can be ordered and there is a consistent and meaningful distance between them. And it also has a natural 0-value.\n",
    "\n",
    "Examples: \n",
    "- Money\n",
    "- Age\n",
    "- Time  \n",
    "\n",
    "Data that is on the ratio level (or \"ratio scale\") gives us the most detailed information. Crucially, we can compare precisely how big one value is compared to another. This would be the ratio between these values, like twice as big, or ten times as small."
   ]
  },
  {
   "cell_type": "markdown",
   "metadata": {},
   "source": []
  }
 ],
 "metadata": {
  "language_info": {
   "name": "python"
  },
  "orig_nbformat": 4
 },
 "nbformat": 4,
 "nbformat_minor": 2
}
